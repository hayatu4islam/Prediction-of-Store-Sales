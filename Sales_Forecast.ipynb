{
 "cells": [
  {
   "cell_type": "markdown",
   "id": "e39942c7-7be8-4371-807e-66fdd66d3c39",
   "metadata": {},
   "source": [
    "### Forecasting sales"
   ]
  },
  {
   "cell_type": "code",
   "execution_count": null,
   "id": "46927890-9509-46e2-9ebc-c5e11a61f200",
   "metadata": {},
   "outputs": [],
   "source": []
  }
 ],
 "metadata": {
  "kernelspec": {
   "display_name": "Python 3 (ipykernel)",
   "language": "python",
   "name": "python3"
  },
  "language_info": {
   "codemirror_mode": {
    "name": "ipython",
    "version": 3
   },
   "file_extension": ".py",
   "mimetype": "text/x-python",
   "name": "python",
   "nbconvert_exporter": "python",
   "pygments_lexer": "ipython3",
   "version": "3.10.2"
  }
 },
 "nbformat": 4,
 "nbformat_minor": 5
}
